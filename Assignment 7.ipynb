{
 "cells": [
  {
   "cell_type": "markdown",
   "id": "0694a9c3",
   "metadata": {},
   "source": [
    "1.\tA spam filter is designed by looking at commonly occurring phrases in spam. Suppose that 80% of email is spam. In 10% of the spam emails, the phrase “free money” is used, whereas this phrase is only used in 1% of non-spam emails. A new email has just arrived, which does mention “free money”. What is the probability that it is spam?"
   ]
  },
  {
   "cell_type": "markdown",
   "id": "a9d9f9a9",
   "metadata": {},
   "source": [
    "A:The event email is spam\n",
    "\n",
    "B: The event of email has free memory space\n",
    "\n",
    "P(A|B) = P(B|A) * P(A)/P(B)\n",
    "\n",
    "0.1/0.8/(0.10.8)+(0.010.2)\n",
    "\n",
    "= 80/82"
   ]
  },
  {
   "cell_type": "code",
   "execution_count": null,
   "id": "05761fb7",
   "metadata": {},
   "outputs": [],
   "source": []
  }
 ],
 "metadata": {
  "kernelspec": {
   "display_name": "Python 3 (ipykernel)",
   "language": "python",
   "name": "python3"
  },
  "language_info": {
   "codemirror_mode": {
    "name": "ipython",
    "version": 3
   },
   "file_extension": ".py",
   "mimetype": "text/x-python",
   "name": "python",
   "nbconvert_exporter": "python",
   "pygments_lexer": "ipython3",
   "version": "3.9.7"
  }
 },
 "nbformat": 4,
 "nbformat_minor": 5
}
